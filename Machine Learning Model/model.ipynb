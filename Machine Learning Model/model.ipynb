{
  "nbformat": 4,
  "nbformat_minor": 0,
  "metadata": {
    "colab": {
      "name": "Model.ipynb",
      "provenance": [],
      "collapsed_sections": []
    },
    "kernelspec": {
      "name": "python3",
      "display_name": "Python 3"
    },
    "language_info": {
      "name": "python"
    },
    "accelerator": "GPU"
  },
  "cells": [
    {
      "cell_type": "code",
      "metadata": {
        "id": "G_twOXLv0xAm",
        "colab": {
          "base_uri": "https://localhost:8080/"
        },
        "outputId": "e7a74f51-25c3-4b30-fe75-6a66c9b85333"
      },
      "source": [
        "from google.colab import drive\n",
        "drive.mount('/content/gdrive/')"
      ],
      "execution_count": 1,
      "outputs": [
        {
          "output_type": "stream",
          "text": [
            "Mounted at /content/gdrive/\n"
          ],
          "name": "stdout"
        }
      ]
    },
    {
      "cell_type": "markdown",
      "metadata": {
        "id": "QfxfkPKaorpD"
      },
      "source": [
        "Copy the dataset into tmp folder"
      ]
    },
    {
      "cell_type": "code",
      "metadata": {
        "id": "w6wGTiNW1YXv"
      },
      "source": [
        "cp -r '/content/gdrive/MyDrive/Dataset_Canang' '/tmp/'"
      ],
      "execution_count": 2,
      "outputs": []
    },
    {
      "cell_type": "code",
      "metadata": {
        "id": "TxzBdKj845Mm"
      },
      "source": [
        "import os\n",
        "import random\n",
        "from shutil import copyfile\n",
        "def split_data(SOURCE, TRAINING, TESTING, SPLIT_SIZE):\n",
        "    all_files = []\n",
        "    for file_name in os.listdir(SOURCE):\n",
        "        file_path = SOURCE + file_name\n",
        "\n",
        "        if os.path.getsize(file_path):\n",
        "            all_files.append(file_name)\n",
        "        else:\n",
        "            print('{} is zero length, so ignoring'.format(file_name))\n",
        "\n",
        "    n_files = len(all_files)\n",
        "    split_point = int(n_files * SPLIT_SIZE)\n",
        "\n",
        "    shuffled = random.sample(all_files, n_files)\n",
        "\n",
        "    train_set = shuffled[:split_point]\n",
        "    test_set = shuffled[split_point:]\n",
        "\n",
        "    for file_name in train_set:\n",
        "        copyfile(SOURCE + file_name, TRAINING + file_name)\n",
        "\n",
        "    for file_name in test_set:\n",
        "        copyfile(SOURCE + file_name, TESTING + file_name)"
      ],
      "execution_count": 6,
      "outputs": []
    },
    {
      "cell_type": "markdown",
      "metadata": {
        "id": "GHzD0uYAo2B_"
      },
      "source": [
        "Make directory for Train and Test dataset"
      ]
    },
    {
      "cell_type": "code",
      "metadata": {
        "id": "IM_d32nX7Gkb"
      },
      "source": [
        "!mkdir '/tmp/Dataset/'\n",
        "!mkdir '/tmp/Dataset/Test'\n",
        "!mkdir '/tmp/Dataset/Train'\n",
        "!mkdir '/tmp/Dataset/Test/Canang Goak'\n",
        "!mkdir '/tmp/Dataset/Test/Canang Ituk-Ituk'\n",
        "!mkdir '/tmp/Dataset/Test/Canang Sari'\n",
        "!mkdir '/tmp/Dataset/Test/Canang Tangkih'\n",
        "!mkdir '/tmp/Dataset/Train/Canang Goak'\n",
        "!mkdir '/tmp/Dataset/Train/Canang Ituk-Ituk'\n",
        "!mkdir '/tmp/Dataset/Train/Canang Sari'\n",
        "!mkdir '/tmp/Dataset/Train/Canang Tangkih'"
      ],
      "execution_count": 4,
      "outputs": []
    },
    {
      "cell_type": "markdown",
      "metadata": {
        "id": "I-zqjr4po_ZS"
      },
      "source": [
        "Split and shuffle the Dataset"
      ]
    },
    {
      "cell_type": "code",
      "metadata": {
        "id": "DzP35p-h4890"
      },
      "source": [
        "Source1=\"/tmp/Dataset_Canang/Canang Goak/\"\n",
        "Train1=\"/tmp/Dataset/Train/Canang Goak/\"\n",
        "Test1=\"/tmp/Dataset/Test/Canang Goak/\"\n",
        "Source2=\"/tmp/Dataset_Canang/Canang Ituk-ituk/\"\n",
        "Train2=\"/tmp/Dataset/Train/Canang Ituk-Ituk/\"\n",
        "Test2=\"/tmp/Dataset/Test/Canang Ituk-Ituk/\"\n",
        "Source3=\"/tmp/Dataset_Canang/Canang Sari/\"\n",
        "Train3=\"/tmp/Dataset/Train/Canang Sari/\"\n",
        "Test3=\"/tmp/Dataset/Test/Canang Sari/\"\n",
        "Source4=\"/tmp/Dataset_Canang/Canang Tangkih/\"\n",
        "Train4=\"/tmp/Dataset/Train/Canang Tangkih/\"\n",
        "Test4=\"/tmp/Dataset/Test/Canang Tangkih/\"\n",
        "split_data(Source1,Train1,Test1,.90)\n",
        "split_data(Source2,Train2,Test2,.90)\n",
        "split_data(Source3,Train3,Test3,.90)\n",
        "split_data(Source4,Train4,Test4,.90)"
      ],
      "execution_count": 7,
      "outputs": []
    },
    {
      "cell_type": "code",
      "metadata": {
        "id": "Eymal1Ps18Wm"
      },
      "source": [
        "import tensorflow as tf\n",
        "from tensorflow import keras\n",
        "import numpy as np\n",
        "img_height = 300\n",
        "img_width = 300\n",
        "batch_size = 30"
      ],
      "execution_count": 8,
      "outputs": []
    },
    {
      "cell_type": "code",
      "metadata": {
        "id": "eIVDLzrC4nxH"
      },
      "source": [
        "model = keras.Sequential(\n",
        "    [\n",
        "        tf.keras.layers.Conv2D(16, (3, 3), activation='relu', input_shape=(300, 300, 3)),\n",
        "        tf.keras.layers.MaxPooling2D(2, 2),\n",
        "        tf.keras.layers.Conv2D(32, (3, 3), activation='relu'),\n",
        "        tf.keras.layers.MaxPooling2D(2, 2),\n",
        "        tf.keras.layers.Conv2D(64, (3, 3), activation='relu'),\n",
        "        tf.keras.layers.MaxPooling2D(2, 2),\n",
        "        tf.keras.layers.Conv2D(128, (3, 3), activation='relu'),\n",
        "        tf.keras.layers.MaxPooling2D(2, 2),\n",
        "        tf.keras.layers.Flatten(),\n",
        "        tf.keras.layers.Dense(512, activation='relu'),\n",
        "        tf.keras.layers.Dense(4, activation='softmax')\n",
        "    ]\n",
        ")"
      ],
      "execution_count": 9,
      "outputs": []
    },
    {
      "cell_type": "code",
      "metadata": {
        "colab": {
          "base_uri": "https://localhost:8080/"
        },
        "id": "hQ8LBHr6pgWg",
        "outputId": "95a7ef8c-f9b7-40a2-8627-b3db76133c1a"
      },
      "source": [
        "ds_train = tf.keras.preprocessing.image_dataset_from_directory(\n",
        "    \"/tmp/Dataset/Train\",\n",
        "    labels=\"inferred\",\n",
        "    label_mode='categorical',\n",
        "    color_mode=\"rgb\",\n",
        "    batch_size=batch_size,\n",
        "    image_size=(img_height, img_width),\n",
        "    shuffle=True,\n",
        "    seed=123,\n",
        "    validation_split=0.110,\n",
        "    subset=\"training\",\n",
        ")\n",
        "ds_validation = tf.keras.preprocessing.image_dataset_from_directory(\n",
        "    \"/tmp/Dataset/Train\",\n",
        "    labels=\"inferred\",\n",
        "    label_mode='categorical',\n",
        "    color_mode=\"rgb\",\n",
        "    batch_size=batch_size,\n",
        "    image_size=(img_height, img_width),  \n",
        "    shuffle=True,\n",
        "    seed=123,\n",
        "    validation_split=0.110,\n",
        "    subset=\"validation\",\n",
        ")"
      ],
      "execution_count": 10,
      "outputs": [
        {
          "output_type": "stream",
          "text": [
            "Found 730 files belonging to 4 classes.\n",
            "Using 650 files for training.\n",
            "Found 730 files belonging to 4 classes.\n",
            "Using 80 files for validation.\n"
          ],
          "name": "stdout"
        }
      ]
    },
    {
      "cell_type": "code",
      "metadata": {
        "id": "YnATCQd6q8V9"
      },
      "source": [
        "def augment(images, label):\n",
        "    images = tf.cast(images, tf.float32)\n",
        "    images = images / 255.0 \n",
        "    images = tf.image.random_brightness(images,max_delta=0.5)\n",
        "    return images, label"
      ],
      "execution_count": 11,
      "outputs": []
    },
    {
      "cell_type": "code",
      "metadata": {
        "id": "AWp9hFFDukAf"
      },
      "source": [
        "train_example=650\n",
        "train_batches = ds_train.cache().shuffle(train_example//4).batch(batch_size).map(augment).prefetch(1)\n",
        "validation_batches = ds_validation.cache().batch(batch_size).map(augment)"
      ],
      "execution_count": 12,
      "outputs": []
    },
    {
      "cell_type": "code",
      "metadata": {
        "id": "PluCTRQY1ZMr"
      },
      "source": [
        "from keras_preprocessing.image import ImageDataGenerator\n",
        "train_batches = ImageDataGenerator(\n",
        "\t    rotation_range=40,\n",
        "      width_shift_range=0.2,\n",
        "      height_shift_range=0.2,\n",
        "      shear_range=0.2,\n",
        "      zoom_range=0.2,\n",
        "      horizontal_flip=True,\n",
        "      fill_mode='nearest')"
      ],
      "execution_count": 13,
      "outputs": []
    },
    {
      "cell_type": "code",
      "metadata": {
        "id": "0wBRHW1wvi9g"
      },
      "source": [
        "model.compile(optimizer='adam',\n",
        "              loss='categorical_crossentropy',\n",
        "              metrics=['accuracy'])"
      ],
      "execution_count": 14,
      "outputs": []
    },
    {
      "cell_type": "code",
      "metadata": {
        "id": "qU21A69HpJRJ",
        "colab": {
          "base_uri": "https://localhost:8080/"
        },
        "outputId": "848eeeb9-3a0e-4823-c885-243efc7af1d9"
      },
      "source": [
        "model.summary()"
      ],
      "execution_count": 15,
      "outputs": [
        {
          "output_type": "stream",
          "text": [
            "Model: \"sequential\"\n",
            "_________________________________________________________________\n",
            "Layer (type)                 Output Shape              Param #   \n",
            "=================================================================\n",
            "conv2d (Conv2D)              (None, 298, 298, 16)      448       \n",
            "_________________________________________________________________\n",
            "max_pooling2d (MaxPooling2D) (None, 149, 149, 16)      0         \n",
            "_________________________________________________________________\n",
            "conv2d_1 (Conv2D)            (None, 147, 147, 32)      4640      \n",
            "_________________________________________________________________\n",
            "max_pooling2d_1 (MaxPooling2 (None, 73, 73, 32)        0         \n",
            "_________________________________________________________________\n",
            "conv2d_2 (Conv2D)            (None, 71, 71, 64)        18496     \n",
            "_________________________________________________________________\n",
            "max_pooling2d_2 (MaxPooling2 (None, 35, 35, 64)        0         \n",
            "_________________________________________________________________\n",
            "conv2d_3 (Conv2D)            (None, 33, 33, 128)       73856     \n",
            "_________________________________________________________________\n",
            "max_pooling2d_3 (MaxPooling2 (None, 16, 16, 128)       0         \n",
            "_________________________________________________________________\n",
            "flatten (Flatten)            (None, 32768)             0         \n",
            "_________________________________________________________________\n",
            "dense (Dense)                (None, 512)               16777728  \n",
            "_________________________________________________________________\n",
            "dense_1 (Dense)              (None, 4)                 2052      \n",
            "=================================================================\n",
            "Total params: 16,877,220\n",
            "Trainable params: 16,877,220\n",
            "Non-trainable params: 0\n",
            "_________________________________________________________________\n"
          ],
          "name": "stdout"
        }
      ]
    },
    {
      "cell_type": "code",
      "metadata": {
        "colab": {
          "base_uri": "https://localhost:8080/"
        },
        "id": "eSRx-K1AvuGP",
        "outputId": "f6247901-fd5e-4cef-fa13-84948316a325"
      },
      "source": [
        "history = model.fit(ds_train, epochs=10, validation_data=ds_validation, verbose=2)"
      ],
      "execution_count": 16,
      "outputs": [
        {
          "output_type": "stream",
          "text": [
            "Epoch 1/10\n",
            "22/22 - 94s - loss: 34.3601 - accuracy: 0.4923 - val_loss: 0.3978 - val_accuracy: 0.8500\n",
            "Epoch 2/10\n",
            "22/22 - 51s - loss: 0.1898 - accuracy: 0.9277 - val_loss: 0.1631 - val_accuracy: 0.9875\n",
            "Epoch 3/10\n",
            "22/22 - 41s - loss: 0.1061 - accuracy: 0.9600 - val_loss: 0.5025 - val_accuracy: 0.8625\n",
            "Epoch 4/10\n",
            "22/22 - 41s - loss: 0.0853 - accuracy: 0.9677 - val_loss: 0.7473 - val_accuracy: 0.8500\n",
            "Epoch 5/10\n",
            "22/22 - 41s - loss: 0.0519 - accuracy: 0.9785 - val_loss: 0.1807 - val_accuracy: 0.9500\n",
            "Epoch 6/10\n",
            "22/22 - 41s - loss: 0.0064 - accuracy: 0.9985 - val_loss: 0.2020 - val_accuracy: 0.9625\n",
            "Epoch 7/10\n",
            "22/22 - 42s - loss: 5.7219e-04 - accuracy: 1.0000 - val_loss: 0.2614 - val_accuracy: 0.9625\n",
            "Epoch 8/10\n",
            "22/22 - 42s - loss: 3.2461e-04 - accuracy: 1.0000 - val_loss: 0.2549 - val_accuracy: 0.9625\n",
            "Epoch 9/10\n",
            "22/22 - 41s - loss: 9.1123e-05 - accuracy: 1.0000 - val_loss: 0.2557 - val_accuracy: 0.9625\n",
            "Epoch 10/10\n",
            "22/22 - 41s - loss: 6.8344e-05 - accuracy: 1.0000 - val_loss: 0.2579 - val_accuracy: 0.9625\n"
          ],
          "name": "stdout"
        }
      ]
    },
    {
      "cell_type": "code",
      "metadata": {
        "id": "RTz6PK9lj7cL",
        "colab": {
          "base_uri": "https://localhost:8080/",
          "height": 563
        },
        "outputId": "ba5610fa-c8f2-4b8f-e937-613c4baa02b8"
      },
      "source": [
        "import matplotlib.pyplot as plt\n",
        "acc      = history.history[     'accuracy' ]\n",
        "val_acc  = history.history[ 'val_accuracy' ]\n",
        "loss     = history.history[    'loss' ]\n",
        "val_loss = history.history['val_loss' ]\n",
        "\n",
        "epochs   = range(len(acc))\n",
        "\n",
        "plt.plot  ( epochs,     acc )\n",
        "plt.plot  ( epochs, val_acc )\n",
        "plt.title ('Training and validation accuracy')\n",
        "plt.figure()\n",
        "\n",
        "plt.plot  ( epochs,     loss )\n",
        "plt.plot  ( epochs, val_loss )\n",
        "plt.title ('Training and validation loss'   )"
      ],
      "execution_count": 17,
      "outputs": [
        {
          "output_type": "execute_result",
          "data": {
            "text/plain": [
              "Text(0.5, 1.0, 'Training and validation loss')"
            ]
          },
          "metadata": {
            "tags": []
          },
          "execution_count": 17
        },
        {
          "output_type": "display_data",
          "data": {
            "image/png": "[encoded data removed]",
            "text/plain": [
              "<Figure size 432x288 with 1 Axes>"
            ]
          },
          "metadata": {
            "tags": [],
            "needs_background": "light"
          }
        },
        {
          "output_type": "display_data",
          "data": {
            "image/png": "[encoded data removed]",
            "text/plain": [
              "<Figure size 432x288 with 1 Axes>"
            ]
          },
          "metadata": {
            "tags": [],
            "needs_background": "light"
          }
        }
      ]
    },
    {
      "cell_type": "markdown",
      "metadata": {
        "id": "Gw5kOhpWpZGo"
      },
      "source": [
        "Saving the Model"
      ]
    },
    {
      "cell_type": "code",
      "metadata": {
        "colab": {
          "base_uri": "https://localhost:8080/"
        },
        "id": "M8-DeMRx4F9m",
        "outputId": "e2b13876-7a34-49ec-875b-37391778a75a"
      },
      "source": [
        "tf.saved_model.save(model, '/tmp/save/1')"
      ],
      "execution_count": null,
      "outputs": [
        {
          "output_type": "stream",
          "text": [
            "WARNING:tensorflow:FOR KERAS USERS: The object that you are saving contains one or more Keras models or layers. If you are loading the SavedModel with `tf.keras.models.load_model`, continue reading (otherwise, you may ignore the following instructions). Please change your code to save with `tf.keras.models.save_model` or `model.save`, and confirm that the file \"keras.metadata\" exists in the export directory. In the future, Keras will only load the SavedModels that have this file. In other words, `tf.saved_model.save` will no longer write SavedModels that can be recovered as Keras models (this will apply in TF 2.5).\n",
            "\n",
            "FOR DEVS: If you are overwriting _tracking_metadata in your class, this property has been used to save metadata in the SavedModel. The metadta field will be deprecated soon, so please move the metadata to a different file.\n",
            "INFO:tensorflow:Assets written to: /tmp/save/1/assets\n"
          ],
          "name": "stdout"
        }
      ]
    },
    {
      "cell_type": "code",
      "metadata": {
        "colab": {
          "base_uri": "https://localhost:8080/"
        },
        "id": "dD3cLgOfAwGI",
        "outputId": "3efed61b-b913-459d-9e1b-c77c1a3a4d96"
      },
      "source": [
        "!zip -r '/tmp/saved_model.zip' '/tmp/save'"
      ],
      "execution_count": null,
      "outputs": [
        {
          "output_type": "stream",
          "text": [
            "  adding: tmp/save/ (stored 0%)\n",
            "  adding: tmp/save/1/ (stored 0%)\n",
            "  adding: tmp/save/1/assets/ (stored 0%)\n",
            "  adding: tmp/save/1/saved_model.pb (deflated 89%)\n",
            "  adding: tmp/save/1/variables/ (stored 0%)\n",
            "  adding: tmp/save/1/variables/variables.data-00000-of-00001 (deflated 22%)\n",
            "  adding: tmp/save/1/variables/variables.index (deflated 67%)\n"
          ],
          "name": "stdout"
        }
      ]
    },
    {
      "cell_type": "code",
      "metadata": {
        "id": "8LCGeScCA_Pu"
      },
      "source": [
        "!cp '/tmp/saved_model2.zip' '/content/gdrive/MyDrive/saved_model2.zip'"
      ],
      "execution_count": null,
      "outputs": []
    },
    {
      "cell_type": "code",
      "metadata": {
        "colab": {
          "base_uri": "https://localhost:8080/"
        },
        "id": "WTLs_Ld3BQjJ",
        "outputId": "0f682105-dcad-41c4-8242-082bcecebba2"
      },
      "source": [
        "drive.flush_and_unmount()\n",
        "print('All changes made in this colab session should now be visible in Drive.')"
      ],
      "execution_count": null,
      "outputs": [
        {
          "output_type": "stream",
          "text": [
            "All changes made in this colab session should now be visible in Drive.\n"
          ],
          "name": "stdout"
        }
      ]
    },
    {
      "cell_type": "markdown",
      "metadata": {
        "id": "3y_4TKSsphTT"
      },
      "source": [
        "Test the model using test dataset"
      ]
    },
    {
      "cell_type": "code",
      "metadata": {
        "colab": {
          "base_uri": "https://localhost:8080/"
        },
        "id": "5T9GxmYTBTi0",
        "outputId": "dfea0a7f-248f-42e9-9942-e6718361efca"
      },
      "source": [
        "from keras.preprocessing import image\n",
        "image_path='/tmp/Dataset/Test/'\n",
        "images = []\n",
        "for jenis in os.listdir(image_path):\n",
        "    for img in os.listdir(image_path+jenis):\n",
        "        img = os.path.join(image_path+jenis, img)\n",
        "        img = image.load_img(img, target_size=(300, 300))\n",
        "        img = image.img_to_array(img)\n",
        "        img = np.expand_dims(img, axis=0)\n",
        "        images.append(img)\n",
        "\n",
        "\n",
        "# stack up images list to pass for prediction\n",
        "images = np.vstack(images)\n",
        "classes = model.predict_classes(images, batch_size=20)\n",
        "i=0\n",
        "acc=0\n",
        "for jenis in os.listdir(image_path):\n",
        "    for img in os.listdir(image_path+jenis):\n",
        "        if jenis=='Canang Goak' and classes[i]==0:\n",
        "            acc+=1\n",
        "        if jenis=='Canang Ituk-Ituk' and classes[i]==1:\n",
        "            acc+=1\n",
        "        if jenis=='Canang Sari' and classes[i]==2:\n",
        "            acc+=1\n",
        "        if jenis=='Canang Tangkih' and classes[i]==3:\n",
        "            acc+=1\n",
        "        i+=1\n",
        "acc=acc/i*100\n",
        "print(\"Accuracy = {}%\".format(acc))"
      ],
      "execution_count": 19,
      "outputs": [
        {
          "output_type": "stream",
          "text": [
            "Accuracy = 97.5609756097561%\n"
          ],
          "name": "stdout"
        },
        {
          "output_type": "stream",
          "text": [
            "/usr/local/lib/python3.7/dist-packages/tensorflow/python/keras/engine/sequential.py:455: UserWarning: `model.predict_classes()` is deprecated and will be removed after 2021-01-01. Please use instead:* `np.argmax(model.predict(x), axis=-1)`,   if your model does multi-class classification   (e.g. if it uses a `softmax` last-layer activation).* `(model.predict(x) > 0.5).astype(\"int32\")`,   if your model does binary classification   (e.g. if it uses a `sigmoid` last-layer activation).\n",
            "  warnings.warn('`model.predict_classes()` is deprecated and '\n"
          ],
          "name": "stderr"
        }
      ]
    }
  ]
}